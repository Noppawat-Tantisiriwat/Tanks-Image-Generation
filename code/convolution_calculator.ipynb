{
 "cells": [
  {
   "cell_type": "code",
   "execution_count": 1,
   "metadata": {},
   "outputs": [],
   "source": [
    "import numpy as np\n",
    "\n",
    "from typing import List"
   ]
  },
  {
   "cell_type": "code",
   "execution_count": 2,
   "metadata": {},
   "outputs": [],
   "source": [
    "def conv1d_out(input_shape:int, kernel_size:int, padding:int, stride:int, dialation:int):\n",
    "        \n",
    "    output_length = np.floor(((input_shape + 2*padding - dialation * (kernel_size - 1) -1) / stride) + 1)\n",
    "\n",
    "    return output_length\n",
    "\n",
    "def conv2d_out(input_shape: List[int], kernel_size: List[int], padding: List[int], stride: List[int], dialation: List[int]):\n",
    "\n",
    "    output_hight = np.floor(((input_shape[0] + 2*padding[0] - dialation[0] * (kernel_size[0] - 1) - 1) / stride[0]) + 1)\n",
    "        \n",
    "    output_width = np.floor(((input_shape[1] + 2*padding[1] - dialation[1] * (kernel_size[1] - 1) - 1) / stride[1]) + 1)\n",
    "\n",
    "    return [output_hight, output_width]\n",
    "\n",
    "def conv3d_out(input_shape: List[int], kernel_size: List[int], padding: List[int], stride: List[int], dialation: List[int]):\n",
    "\n",
    "    output_depth = np.floor(((input_shape[0] + 2*padding[0] - dialation[0] * (kernel_size[0] - 1) - 1) / stride[0]) + 1)\n",
    "\n",
    "    output_hight = np.floor(((input_shape[1] + 2*padding[1] - dialation[1] * (kernel_size[1] - 1) - 1) / stride[1]) + 1)\n",
    "        \n",
    "    output_width = np.floor(((input_shape[2] + 2*padding[2] - dialation[2] * (kernel_size[2] - 1) - 1) / stride[2]) + 1)\n",
    "\n",
    "    return [output_depth, output_hight, output_width]\n",
    "\n",
    "\n",
    "def convt1d_out(input_shape:int, kernel_size:int, padding:int, output_padding:int, stride:int, dialation:int):\n",
    "        \n",
    "    output_length = (input_shape - 1) * stride - 2*padding + dialation * (kernel_size - 1) + output_padding + 1\n",
    "\n",
    "    return output_length\n",
    "\n",
    "def convt2d_out(input_shape: List[int], kernel_size: List[int], padding: List[int], output_padding: List[int],stride: List[int], dialation: List[int]):\n",
    "        \n",
    "    output_hight = (input_shape[0] - 1) * stride[0] - 2*padding[0] + dialation[0] * (kernel_size[0] - 1) + output_padding[0] + 1\n",
    "\n",
    "    output_width = (input_shape[1] - 1) * stride[1] - 2*padding[1] + dialation[1] * (kernel_size[1] - 1) + output_padding[1] + 1\n",
    "\n",
    "    return [output_hight, output_width]\n",
    "\n",
    "def convt3d_out(input_shape: List[int], kernel_size: List[int], padding: List[int], output_padding: List[int], stride: List[int], dialation: List[int]):\n",
    "        \n",
    "    output_depth = (input_shape[0] - 1) * stride[0] - 2*padding[0] + dialation[0] * (kernel_size[0] - 1) + output_padding[0] + 1\n",
    "\n",
    "    output_hight = (input_shape[1] - 1) * stride[1] - 2*padding[1] + dialation[1] * (kernel_size[1] - 1) + output_padding[1] + 1\n",
    "\n",
    "    output_width = (input_shape[2] - 1) * stride[2] - 2*padding[2] + dialation[2] * (kernel_size[2] - 1) + output_padding[2] + 1\n",
    "\n",
    "    return [output_depth, output_hight, output_width]"
   ]
  },
  {
   "cell_type": "code",
   "execution_count": 3,
   "metadata": {},
   "outputs": [],
   "source": [
    "class ConvBlock:\n",
    "    \n",
    "    def __init__(self, dim, kernel_size, padding, stride, dialation,name=\"Conv\"):\n",
    "        \n",
    "        self.dim = dim\n",
    "        self.kernel_size = kernel_size\n",
    "        self.padding = padding\n",
    "        self.stride = stride\n",
    "        self.dialation = dialation\n",
    "        self.name = name\n",
    "    \n",
    "    def forward(self, input_shape):\n",
    "\n",
    "        if self.dim == 1:\n",
    "            \n",
    "            return conv1d_out(input_shape=input_shape,\n",
    "                                        kernel_size=self.kernel_size,\n",
    "                                        padding=self.padding,\n",
    "                                        stride=self.stride,\n",
    "                                        dialation=self.dialation)\n",
    "\n",
    "        elif self.dim == 2:\n",
    "\n",
    "            return conv2d_out(input_shape=input_shape,\n",
    "                                        kernel_size=self.kernel_size,\n",
    "                                        padding=self.padding,\n",
    "                                        stride=self.stride,\n",
    "                                        dialation=self.dialation)\n",
    "\n",
    "        elif self.dim == 3:\n",
    "            \n",
    "            return conv3d_out(input_shape=input_shape,\n",
    "                                        kernel_size=self.kernel_size,\n",
    "                                        padding=self.padding,\n",
    "                                        stride=self.stride,\n",
    "                                        dialation=self.dialation)\n",
    "\n",
    "        else:\n",
    "            raise NotImplementedError\n",
    "\n",
    "\n",
    "    def __str__(self):\n",
    "\n",
    "        return      {\"name\" : self.name,\n",
    "                    \"dimention\" :self.dim,\n",
    "                    \"kernel_size\":self.kernel,\n",
    "                    \"padding\":self.padding,\n",
    "                    \"stride\":self.stride,\n",
    "                    \"dilation\":self.dialation}\n",
    "\n"
   ]
  },
  {
   "cell_type": "code",
   "execution_count": 4,
   "metadata": {},
   "outputs": [],
   "source": [
    "class ConvTBlock(ConvBlock):\n",
    "\n",
    "    def __init__(self, dim, kernel_size, padding, output_padding, stride, dialation,name=\"Conv\"):\n",
    "        super(ConvTBlock, self).__init__(dim, kernel_size, padding, stride, dialation)\n",
    "        \n",
    "        self.dim = dim\n",
    "        self.kernel_size = kernel_size\n",
    "        self.padding = padding\n",
    "        self.output_padding = output_padding\n",
    "        self.stride = stride\n",
    "        self.dialation = dialation\n",
    "        self.name = name\n",
    "        \n",
    "    def forward(self, input_shape):\n",
    "        if self.dim == 1:\n",
    "            \n",
    "            return convt1d_out(input_shape=input_shape,\n",
    "                                        kernel_size=self.kernel_size,\n",
    "                                        padding=self.padding,\n",
    "                                        output_padding=self.output_padding,\n",
    "                                        stride=self.stride,\n",
    "                                        dialation=self.dialation)\n",
    "\n",
    "        elif self.dim == 2:\n",
    "\n",
    "            return convt2d_out(input_shape=input_shape,\n",
    "                                        kernel_size=self.kernel_size,\n",
    "                                        padding=self.padding,\n",
    "                                        output_padding=self.output_padding,\n",
    "                                        stride=self.stride,\n",
    "                                        dialation=self.dialation)\n",
    "\n",
    "        elif self.dim == 3:\n",
    "            \n",
    "            return convt3d_out(input_shape=input_shape,\n",
    "                                        kernel_size=self.kernel_size,\n",
    "                                        padding=self.padding,\n",
    "                                        output_padding=self.output_padding,\n",
    "                                        stride=self.stride,\n",
    "                                        dialation=self.dialation)\n",
    "\n",
    "        else:\n",
    "            raise NotImplementedError\n",
    "\n",
    "\n",
    "    def __str__(self):\n",
    "\n",
    "        return      {\"name\" : self.name,\n",
    "                    \"dimention\" :self.dim,\n",
    "                    \"kernel_size\":self.kernel,\n",
    "                    \"padding\":self.padding,\n",
    "                    \"output_padding\":self.output_padding,\n",
    "                    \"stride\":self.stride,\n",
    "                    \"dilation\":self.dialation}"
   ]
  },
  {
   "cell_type": "code",
   "execution_count": 5,
   "metadata": {},
   "outputs": [],
   "source": [
    "\n",
    "class Stack:\n",
    "\n",
    "    def __init__(self, function_list: List, name=\"calc1\"):\n",
    "\n",
    "        self.functions = function_list\n",
    "        self.name = name\n",
    "\n",
    "    def calculate(self, input_shape):\n",
    "\n",
    "        x = input_shape\n",
    "\n",
    "        for function in self.functions:\n",
    "            x = function.forward(x)\n",
    "\n",
    "        return x\n",
    "\n",
    "    def __str__(self):\n",
    "\n",
    "        return self.name + \"\\n ____________ \" + \"layers : \" + str(len(self.functions)) \n",
    "\n",
    "     \n",
    "\n",
    "        "
   ]
  },
  {
   "cell_type": "code",
   "execution_count": 6,
   "metadata": {},
   "outputs": [],
   "source": [
    "encoder2d = Stack([\n",
    "    ConvBlock(2,[3, 3], [1, 1], [3, 3], [0, 0]),\n",
    "    ConvBlock(2,[4, 4], [0, 0], [3, 3], [1, 1]),\n",
    "    ConvBlock(2,[3, 3], [1, 1], [1, 1], [0, 0]),\n",
    "    ConvBlock(2,[4, 4], [0, 0], [1, 1], [1, 1]),\n",
    "    ConvBlock(2,[3, 3], [1, 1], [1, 1], [0, 0])\n",
    "], name=\"encoder2d\")"
   ]
  },
  {
   "cell_type": "code",
   "execution_count": 7,
   "metadata": {},
   "outputs": [
    {
     "name": "stdout",
     "output_type": "stream",
     "text": [
      "encoder2d\n",
      " ____________ layers : 5\n"
     ]
    }
   ],
   "source": [
    "print(encoder2d)"
   ]
  },
  {
   "cell_type": "code",
   "execution_count": 8,
   "metadata": {},
   "outputs": [
    {
     "data": {
      "text/plain": [
       "[28.0, 28.0]"
      ]
     },
     "execution_count": 8,
     "metadata": {},
     "output_type": "execute_result"
    }
   ],
   "source": [
    "encoder2d.calculate([244, 244])"
   ]
  },
  {
   "cell_type": "code",
   "execution_count": 33,
   "metadata": {},
   "outputs": [],
   "source": [
    "decoder2d = Stack([\n",
    "    ConvTBlock(2,[3, 3], [1, 1], [0, 0], [1, 1], [0, 0],),\n",
    "    ConvTBlock(2,[4, 4], [0, 0], [0, 0], [1, 1], [1, 1]),\n",
    "    ConvTBlock(2,[3, 3], [1, 1], [0, 0], [1, 1], [0, 0]),\n",
    "    ConvTBlock(2,[4, 4], [0, 0], [1, 1], [3, 3], [0, 0]),\n",
    "    ConvTBlock(2,[3, 3], [1, 1], [1, 1], [3, 3], [0, 0])\n",
    "], name=\"decoder2d\")"
   ]
  },
  {
   "cell_type": "code",
   "execution_count": 34,
   "metadata": {},
   "outputs": [
    {
     "data": {
      "text/plain": [
       "[237, 237]"
      ]
     },
     "execution_count": 34,
     "metadata": {},
     "output_type": "execute_result"
    }
   ],
   "source": [
    "decoder2d.calculate([28, 28])"
   ]
  }
 ],
 "metadata": {
  "interpreter": {
   "hash": "dcacb0086e9a4f4eabd41c33bf4faac5ea0a3337ed3f5eff0680afa930572c04"
  },
  "kernelspec": {
   "display_name": "Python 3.9.0 64-bit",
   "language": "python",
   "name": "python3"
  },
  "language_info": {
   "codemirror_mode": {
    "name": "ipython",
    "version": 3
   },
   "file_extension": ".py",
   "mimetype": "text/x-python",
   "name": "python",
   "nbconvert_exporter": "python",
   "pygments_lexer": "ipython3",
   "version": "3.9.0"
  },
  "orig_nbformat": 4
 },
 "nbformat": 4,
 "nbformat_minor": 2
}

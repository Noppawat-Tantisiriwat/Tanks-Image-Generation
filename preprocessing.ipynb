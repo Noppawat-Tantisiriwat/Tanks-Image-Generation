{
 "cells": [
  {
   "cell_type": "code",
   "execution_count": 1,
   "metadata": {},
   "outputs": [
    {
     "name": "stderr",
     "output_type": "stream",
     "text": [
      "C:\\Users\\Rew\\AppData\\Local\\Programs\\Python\\Python39\\lib\\site-packages\\torchvision\\io\\image.py:11: UserWarning: Failed to load image Python extension: [WinError 127] The specified procedure could not be found\n",
      "  warn(f\"Failed to load image Python extension: {e}\")\n"
     ]
    }
   ],
   "source": [
    "import torch\n",
    "import numpy as np \n",
    "from PIL import Image\n",
    "import matplotlib.pyplot as plt\n",
    "from torch.utils.data import Dataset, DataLoader\n",
    "from torchvision import transforms as T\n",
    "import cv2"
   ]
  },
  {
   "cell_type": "code",
   "execution_count": 2,
   "metadata": {},
   "outputs": [],
   "source": [
    "data = np.load(\"alltanks.npy\")"
   ]
  },
  {
   "cell_type": "code",
   "execution_count": 3,
   "metadata": {},
   "outputs": [],
   "source": [
    "cv2.imshow('image',data[11])"
   ]
  },
  {
   "cell_type": "code",
   "execution_count": 4,
   "metadata": {},
   "outputs": [
    {
     "name": "stderr",
     "output_type": "stream",
     "text": [
      "Clipping input data to the valid range for imshow with RGB data ([0..1] for floats or [0..255] for integers).\n"
     ]
    },
    {
     "data": {
      "text/plain": [
       "<matplotlib.image.AxesImage at 0x1e0e2add370>"
      ]
     },
     "execution_count": 4,
     "metadata": {},
     "output_type": "execute_result"
    },
    {
     "data": {
      "image/png": "[encoded data removed]",
      "text/plain": [
       "<Figure size 432x288 with 1 Axes>"
      ]
     },
     "metadata": {
      "needs_background": "light"
     },
     "output_type": "display_data"
    }
   ],
   "source": [
    "plt.imshow(data[11])"
   ]
  },
  {
   "cell_type": "code",
   "execution_count": 5,
   "metadata": {},
   "outputs": [],
   "source": [
    "img_array = data[11]"
   ]
  },
  {
   "cell_type": "code",
   "execution_count": 6,
   "metadata": {},
   "outputs": [
    {
     "data": {
      "text/plain": [
       "array([[[ 0.01176471,  0.01176471,  0.01960784, ...,  0.01960784,\n",
       "         -0.12156863, -0.16862745],\n",
       "        [ 0.01176471,  0.01176471,  0.02745098, ..., -0.00392157,\n",
       "         -0.20784314, -0.14509804],\n",
       "        [ 0.01176471,  0.01176471,  0.02745098, ..., -0.16862745,\n",
       "         -0.38823529, -0.31764706],\n",
       "        ...,\n",
       "        [-0.00392157,  0.01176471,  0.01176471, ..., -0.01960784,\n",
       "          0.10588235, -0.23921569],\n",
       "        [-0.01176471,  0.00392157,  0.01176471, ..., -0.05098039,\n",
       "          0.11372549, -0.21568627],\n",
       "        [-0.00392157,  0.01176471,  0.01176471, ..., -0.15294118,\n",
       "         -0.12156863, -0.20784314]],\n",
       "\n",
       "       [[ 0.42745098,  0.42745098,  0.42745098, ..., -0.08235294,\n",
       "         -0.17647059, -0.23137255],\n",
       "        [ 0.42745098,  0.42745098,  0.43529412, ..., -0.10588235,\n",
       "         -0.23921569, -0.21568627],\n",
       "        [ 0.42745098,  0.42745098,  0.43529412, ..., -0.2       ,\n",
       "         -0.31764706, -0.31764706],\n",
       "        ...,\n",
       "        [ 0.42745098,  0.42745098,  0.42745098, ..., -0.11372549,\n",
       "          0.02745098, -0.31764706],\n",
       "        [ 0.42745098,  0.42745098,  0.42745098, ..., -0.12941176,\n",
       "          0.06666667, -0.30196078],\n",
       "        [ 0.42745098,  0.42745098,  0.42745098, ..., -0.22352941,\n",
       "         -0.17647059, -0.2627451 ]],\n",
       "\n",
       "       [[ 0.83529412,  0.83529412,  0.83529412, ..., -0.19215686,\n",
       "         -0.28627451, -0.30980392],\n",
       "        [ 0.83529412,  0.82745098,  0.82745098, ..., -0.21568627,\n",
       "         -0.41960784, -0.3254902 ],\n",
       "        [ 0.82745098,  0.81960784,  0.81960784, ..., -0.37254902,\n",
       "         -0.63137255, -0.5372549 ],\n",
       "        ...,\n",
       "        [ 0.82745098,  0.81960784,  0.81960784, ..., -0.14509804,\n",
       "         -0.01176471, -0.34117647],\n",
       "        [ 0.81960784,  0.81960784,  0.82745098, ..., -0.15294118,\n",
       "          0.05882353, -0.3254902 ],\n",
       "        [ 0.82745098,  0.83529412,  0.81960784, ..., -0.24705882,\n",
       "         -0.19215686, -0.29411765]]])"
      ]
     },
     "execution_count": 6,
     "metadata": {},
     "output_type": "execute_result"
    }
   ],
   "source": [
    "data[111].T"
   ]
  },
  {
   "cell_type": "code",
   "execution_count": 7,
   "metadata": {},
   "outputs": [
    {
     "data": {
      "text/plain": [
       "(1079, 64, 64, 3)"
      ]
     },
     "execution_count": 7,
     "metadata": {},
     "output_type": "execute_result"
    }
   ],
   "source": [
    "data.shape"
   ]
  },
  {
   "cell_type": "code",
   "execution_count": 8,
   "metadata": {},
   "outputs": [],
   "source": [
    "img_tensor = T.ToTensor()(img_array)\n",
    "\n",
    "img = T.ToPILImage()(img_tensor)\n",
    "\n",
    "img.show()"
   ]
  },
  {
   "cell_type": "code",
   "execution_count": 21,
   "metadata": {},
   "outputs": [],
   "source": [
    "class TanksDataset(Dataset):\n",
    "\n",
    "    def __init__(self):\n",
    "        \n",
    "        path = \"alltanks.npy\"\n",
    "\n",
    "        images_data = np.load(path)\n",
    "\n",
    "        data = np.swapaxes(images_data, 3, 1)\n",
    "\n",
    "        self.data = data\n",
    "    \n",
    "    def __getitem__(self, index):\n",
    "\n",
    "        return self.data[index]\n",
    "\n",
    "    def __len__(self):\n",
    "        \n",
    "        return len(self.data)"
   ]
  },
  {
   "cell_type": "code",
   "execution_count": 22,
   "metadata": {},
   "outputs": [],
   "source": [
    "train_loader = DataLoader(TanksDataset(), batch_size=1, shuffle=True)"
   ]
  },
  {
   "cell_type": "code",
   "execution_count": 24,
   "metadata": {},
   "outputs": [
    {
     "name": "stdout",
     "output_type": "stream",
     "text": [
      "tensor([[[[ 0.3176,  0.3333,  0.3333,  ...,  0.0196, -0.0118, -0.0353],\n",
      "          [ 0.3255,  0.3490,  0.3569,  ...,  0.0039, -0.0196, -0.0196],\n",
      "          [ 0.4118,  0.4196,  0.4353,  ..., -0.0196, -0.0118, -0.0118],\n",
      "          ...,\n",
      "          [ 0.3647,  0.3725,  0.3804,  ...,  0.0196, -0.2314, -0.0353],\n",
      "          [ 0.3647,  0.3725,  0.3804,  ...,  0.0118, -0.2706, -0.0039],\n",
      "          [ 0.3569,  0.3725,  0.3804,  ...,  0.0275, -0.0824,  0.0118]],\n",
      "\n",
      "         [[ 0.4353,  0.4431,  0.4510,  ...,  0.0275, -0.0039, -0.0275],\n",
      "          [ 0.4431,  0.4510,  0.4667,  ...,  0.0118, -0.0118, -0.0118],\n",
      "          [ 0.4824,  0.4667,  0.4902,  ..., -0.0118, -0.0039, -0.0039],\n",
      "          ...,\n",
      "          [ 0.4902,  0.4980,  0.5059,  ...,  0.0275, -0.2235, -0.0275],\n",
      "          [ 0.4902,  0.4980,  0.5059,  ...,  0.0118, -0.2784, -0.0039],\n",
      "          [ 0.4824,  0.4980,  0.5059,  ...,  0.0275, -0.0824,  0.0118]],\n",
      "\n",
      "         [[ 0.6392,  0.6549,  0.6706,  ..., -0.0275, -0.0510, -0.0745],\n",
      "          [ 0.6392,  0.6627,  0.6627,  ..., -0.0353, -0.0588, -0.0588],\n",
      "          [ 0.5529,  0.5451,  0.5608,  ..., -0.0588, -0.0510, -0.0510],\n",
      "          ...,\n",
      "          [ 0.6863,  0.6941,  0.7020,  ..., -0.0196, -0.2706, -0.0745],\n",
      "          [ 0.6941,  0.6941,  0.7020,  ..., -0.0510, -0.3098, -0.0510],\n",
      "          [ 0.6863,  0.6941,  0.7020,  ..., -0.0353, -0.1373, -0.0431]]]],\n",
      "       dtype=torch.float64)\n"
     ]
    }
   ],
   "source": [
    "dataiter = iter(train_loader)\n",
    "\n",
    "batch = dataiter.next()\n",
    "\n",
    "print(batch)"
   ]
  }
 ],
 "metadata": {
  "interpreter": {
   "hash": "51f49de4ecea0dc171f2857edc25e2cf46e665b2859ff26ff78277ff2a4d1a07"
  },
  "kernelspec": {
   "display_name": "Python 3.9.0 64-bit",
   "language": "python",
   "name": "python3"
  },
  "language_info": {
   "codemirror_mode": {
    "name": "ipython",
    "version": 3
   },
   "file_extension": ".py",
   "mimetype": "text/x-python",
   "name": "python",
   "nbconvert_exporter": "python",
   "pygments_lexer": "ipython3",
   "version": "3.9.0"
  },
  "orig_nbformat": 4
 },
 "nbformat": 4,
 "nbformat_minor": 2
}

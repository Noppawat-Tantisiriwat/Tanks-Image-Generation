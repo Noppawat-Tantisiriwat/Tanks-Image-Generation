{
 "cells": [
  {
   "cell_type": "code",
   "execution_count": 1,
   "metadata": {},
   "outputs": [],
   "source": [
    "import numpy as np\n",
    "import torch \n"
   ]
  },
  {
   "cell_type": "code",
   "execution_count": 2,
   "metadata": {},
   "outputs": [
    {
     "name": "stdout",
     "output_type": "stream",
     "text": [
      "3\n"
     ]
    }
   ],
   "source": [
    "list_of_lists = [[1, 1], [1, 1], [1, 1]]\n",
    "\n",
    "print(len(list_of_lists))\n"
   ]
  },
  {
   "cell_type": "code",
   "execution_count": 22,
   "metadata": {},
   "outputs": [
    {
     "name": "stderr",
     "output_type": "stream",
     "text": [
      "C:\\Users\\Rew\\AppData\\Local\\Temp\\ipykernel_20848\\2249072672.py:8: VisibleDeprecationWarning: Creating an ndarray from ragged nested sequences (which is a list-or-tuple of lists-or-tuples-or ndarrays with different lengths or shapes) is deprecated. If you meant to do this, you must specify 'dtype=object' when creating the ndarray.\n",
      "  np.array(list(zip(r, r_prime)))\n"
     ]
    },
    {
     "data": {
      "text/plain": [
       "array([[0, array([  1, 100])],\n",
       "       [1, array([  2, 101])],\n",
       "       [2, array([  3, 102])],\n",
       "       [3, array([  4, 103])],\n",
       "       [4, array([  5, 104])],\n",
       "       [5, array([  6, 105])],\n",
       "       [6, array([  7, 106])],\n",
       "       [7, array([  8, 107])],\n",
       "       [8, array([  9, 108])],\n",
       "       [9, array([ 10, 109])],\n",
       "       [10, array([ 11, 110])],\n",
       "       [11, array([ 12, 111])],\n",
       "       [12, array([ 13, 112])],\n",
       "       [13, array([ 14, 113])],\n",
       "       [14, array([ 15, 114])],\n",
       "       [15, array([ 16, 115])],\n",
       "       [16, array([ 17, 116])],\n",
       "       [17, array([ 18, 117])],\n",
       "       [18, array([ 19, 118])],\n",
       "       [19, array([ 20, 119])],\n",
       "       [20, array([ 21, 120])],\n",
       "       [21, array([ 22, 121])],\n",
       "       [22, array([ 23, 122])],\n",
       "       [23, array([ 24, 123])],\n",
       "       [24, array([ 25, 124])],\n",
       "       [25, array([ 26, 125])],\n",
       "       [26, array([ 27, 126])],\n",
       "       [27, array([ 28, 127])],\n",
       "       [28, array([ 29, 128])],\n",
       "       [29, array([ 30, 129])],\n",
       "       [30, array([ 31, 130])],\n",
       "       [31, array([ 32, 131])],\n",
       "       [32, array([ 33, 132])],\n",
       "       [33, array([ 34, 133])],\n",
       "       [34, array([ 35, 134])],\n",
       "       [35, array([ 36, 135])],\n",
       "       [36, array([ 37, 136])],\n",
       "       [37, array([ 38, 137])],\n",
       "       [38, array([ 39, 138])],\n",
       "       [39, array([ 40, 139])],\n",
       "       [40, array([ 41, 140])],\n",
       "       [41, array([ 42, 141])],\n",
       "       [42, array([ 43, 142])],\n",
       "       [43, array([ 44, 143])],\n",
       "       [44, array([ 45, 144])],\n",
       "       [45, array([ 46, 145])],\n",
       "       [46, array([ 47, 146])],\n",
       "       [47, array([ 48, 147])],\n",
       "       [48, array([ 49, 148])],\n",
       "       [49, array([ 50, 149])],\n",
       "       [50, array([ 51, 150])],\n",
       "       [51, array([ 52, 151])],\n",
       "       [52, array([ 53, 152])],\n",
       "       [53, array([ 54, 153])],\n",
       "       [54, array([ 55, 154])],\n",
       "       [55, array([ 56, 155])],\n",
       "       [56, array([ 57, 156])],\n",
       "       [57, array([ 58, 157])],\n",
       "       [58, array([ 59, 158])],\n",
       "       [59, array([ 60, 159])],\n",
       "       [60, array([ 61, 160])],\n",
       "       [61, array([ 62, 161])],\n",
       "       [62, array([ 63, 162])],\n",
       "       [63, array([ 64, 163])],\n",
       "       [64, array([ 65, 164])],\n",
       "       [65, array([ 66, 165])],\n",
       "       [66, array([ 67, 166])],\n",
       "       [67, array([ 68, 167])],\n",
       "       [68, array([ 69, 168])],\n",
       "       [69, array([ 70, 169])],\n",
       "       [70, array([ 71, 170])],\n",
       "       [71, array([ 72, 171])],\n",
       "       [72, array([ 73, 172])],\n",
       "       [73, array([ 74, 173])],\n",
       "       [74, array([ 75, 174])],\n",
       "       [75, array([ 76, 175])],\n",
       "       [76, array([ 77, 176])],\n",
       "       [77, array([ 78, 177])],\n",
       "       [78, array([ 79, 178])],\n",
       "       [79, array([ 80, 179])],\n",
       "       [80, array([ 81, 180])],\n",
       "       [81, array([ 82, 181])],\n",
       "       [82, array([ 83, 182])],\n",
       "       [83, array([ 84, 183])],\n",
       "       [84, array([ 85, 184])],\n",
       "       [85, array([ 86, 185])],\n",
       "       [86, array([ 87, 186])],\n",
       "       [87, array([ 88, 187])],\n",
       "       [88, array([ 89, 188])],\n",
       "       [89, array([ 90, 189])],\n",
       "       [90, array([ 91, 190])],\n",
       "       [91, array([ 92, 191])],\n",
       "       [92, array([ 93, 192])],\n",
       "       [93, array([ 94, 193])],\n",
       "       [94, array([ 95, 194])],\n",
       "       [95, array([ 96, 195])],\n",
       "       [96, array([ 97, 196])],\n",
       "       [97, array([ 98, 197])],\n",
       "       [98, array([ 99, 198])]], dtype=object)"
      ]
     },
     "execution_count": 22,
     "metadata": {},
     "output_type": "execute_result"
    }
   ],
   "source": [
    "r = range(100)\n",
    "\n",
    "rr = np.arange(1, 100)\n",
    "\n",
    "rrr = np.arange(100, 199)\n",
    "\n",
    "r_prime = np.concatenate((np.vstack(rr), np.vstack(rrr)), axis=1)\n",
    "np.array(list(zip(r, r_prime)))"
   ]
  },
  {
   "cell_type": "code",
   "execution_count": null,
   "metadata": {},
   "outputs": [],
   "source": []
  }
 ],
 "metadata": {
  "interpreter": {
   "hash": "51f49de4ecea0dc171f2857edc25e2cf46e665b2859ff26ff78277ff2a4d1a07"
  },
  "kernelspec": {
   "display_name": "Python 3.9.0 64-bit",
   "language": "python",
   "name": "python3"
  },
  "language_info": {
   "codemirror_mode": {
    "name": "ipython",
    "version": 3
   },
   "file_extension": ".py",
   "mimetype": "text/x-python",
   "name": "python",
   "nbconvert_exporter": "python",
   "pygments_lexer": "ipython3",
   "version": "3.9.0"
  },
  "orig_nbformat": 4
 },
 "nbformat": 4,
 "nbformat_minor": 2
}
